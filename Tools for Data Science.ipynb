{
 "cells": [
  {
   "cell_type": "markdown",
   "metadata": {},
   "source": [
    "# Capstone Project: Car accidents severity\n",
    "##### By Lilian Ordonez\n",
    "## Introduction/Business Problem:\n",
    "\n",
    "Traffic accidents could be considered an old-fashioned topic. They are so unexpected and undesirable that they can happen to a person on the road, unfortunately they happen frequently. Also, with the increase in population, the progress of cars and the technology capabilities they have. It's even more important to have tools and means available to mitigate their occurrences; as well as the implications and consequences they have for the people involved. However, predicting the severity of a car accident is not an easy task. Even when possible, levels of precision will vary significantly depending on, among many factors, the data available and how well the problem has been modeled."
   ]
  },
  {
   "cell_type": "markdown",
   "metadata": {},
   "source": [
    "## Data Description: \n",
    "It is necessary to require a data set with a considerable amount of traffic accident records with complete information to enter the model and be able to make an accurate prediction of the severity of the car accidents. In this project a Kaggle dataset was taken, which you can find in the following link https://www.kaggle.com/silicon99/dft-accident-data. This data set has more than one million UK traffic accident records from 2005 to 2015. This complete data set will be divided into two parts: training data set and validation data set.\n"
   ]
  },
  {
   "cell_type": "code",
   "execution_count": null,
   "metadata": {},
   "outputs": [],
   "source": []
  }
 ],
 "metadata": {
  "kernelspec": {
   "display_name": "Python",
   "language": "python",
   "name": "conda-env-python-py"
  },
  "language_info": {
   "codemirror_mode": {
    "name": "ipython",
    "version": 3
   },
   "file_extension": ".py",
   "mimetype": "text/x-python",
   "name": "python",
   "nbconvert_exporter": "python",
   "pygments_lexer": "ipython3",
   "version": "3.6.11"
  }
 },
 "nbformat": 4,
 "nbformat_minor": 4
}
