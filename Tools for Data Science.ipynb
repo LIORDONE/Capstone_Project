{
 "cells": [
  {
   "cell_type": "markdown",
   "metadata": {},
   "source": [
    "# My Jupyter Notebook on IBM Watson Studio\n",
    "##### By Lilian Ordonez\n",
    "I currently work as an automation developer and I am interested in increasing my scope.\n",
    "_I am really interested in learning Data Science because I am very struck by the scope and capacity that there is in this science. _\n",
    "The following code will be add two numbers."
   ]
  },
  {
   "cell_type": "markdown",
   "metadata": {},
   "source": [
    "## Data Description: \n",
    "It is necessary to require a data set with a considerable amount of traffic accident records with complete information to enter the model and be able to make an accurate prediction of the severity of the car accidents. In this project a Kaggle dataset was taken, which you can find in the following link https://www.kaggle.com/silicon99/dft-accident-data. This data set has more than one million UK traffic accident records from 2005 to 2015. This complete data set will be divided into two parts: training data set and validation data set.\n"
   ]
  },
  {
   "cell_type": "code",
   "execution_count": null,
   "metadata": {},
   "outputs": [],
   "source": []
  }
 ],
 "metadata": {
  "kernelspec": {
   "display_name": "Python",
   "language": "python",
   "name": "conda-env-python-py"
  },
  "language_info": {
   "codemirror_mode": {
    "name": "ipython",
    "version": 3
   },
   "file_extension": ".py",
   "mimetype": "text/x-python",
   "name": "python",
   "nbconvert_exporter": "python",
   "pygments_lexer": "ipython3",
   "version": "3.6.11"
  }
 },
 "nbformat": 4,
 "nbformat_minor": 4
}
